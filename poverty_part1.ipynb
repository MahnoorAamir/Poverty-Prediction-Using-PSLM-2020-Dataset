{
 "cells": [
  {
   "cell_type": "markdown",
   "id": "lZgH-ZcDW4B2",
   "metadata": {
    "id": "lZgH-ZcDW4B2"
   },
   "source": [
    "\n",
    "**Poverty Prediction Using PSLM-2020 Dataset**"
   ]
  },
  {
   "cell_type": "code",
   "execution_count": 1,
   "id": "44036281",
   "metadata": {
    "id": "44036281"
   },
   "outputs": [],
   "source": [
    "import pandas as pd\n",
    "import numpy as np\n",
    "from sklearn.model_selection import train_test_split\n",
    "from sklearn.preprocessing import StandardScaler, OneHotEncoder\n",
    "from sklearn.impute import SimpleImputer\n",
    "from sklearn.ensemble import RandomForestClassifier, GradientBoostingClassifier\n",
    "from sklearn.metrics import accuracy_score, classification_report, confusion_matrix\n",
    "from sklearn.compose import ColumnTransformer\n",
    "from sklearn.pipeline import Pipeline\n",
    "import matplotlib.pyplot as plt\n",
    "import seaborn as sns\n"
   ]
  },
  {
   "cell_type": "code",
   "execution_count": 3,
   "id": "58c59c57",
   "metadata": {
    "id": "58c59c57"
   },
   "outputs": [],
   "source": [
    "# Load PSLM-2020 datasets\n",
    "df_secE = pd.read_csv(\"/content/SecE.csv\")\n",
    "df_secb2 = pd.read_csv(\"/content/secb2.csv\")\n",
    "\n",
    "# Merge secE and secb2 datasets on 'hhcode'\n",
    "df = pd.merge(df_secE, df_secb2, on=\"hhcode\", how=\"inner\")\n",
    "\n",
    "# Rename PSLM-coded columns to meaningful names\n",
    "df.rename(columns={\n",
    "    \"seaq08\": \"monthly_income\",\n",
    "    \"seaq10\": \"annual_income\",\n",
    "    \"seaq21\": \"pension_income\",\n",
    "    \"seaq23\": \"income_inside_pakistan\",\n",
    "    \"seaq24\": \"foreign_remittances\",\n",
    "    \"seaq25\": \"rent_income\",\n",
    "    \"seaq26\": \"other_income\"\n",
    "}, inplace=True)\n",
    "\n",
    "# Ensure 'monthly_income' exists, otherwise estimate it\n",
    "df['monthly_income'] = df.get('monthly_income', df.get('annual_income', 0) / 12)\n",
    "\n",
    "df['monthtoannual'] = df['monthly_income'] * 12\n",
    "\n",
    "# Define relevant income columns\n",
    "income_features = ['pension_income', 'income_inside_pakistan', 'foreign_remittances', 'rent_income', 'other_income', 'annual_income', 'monthtoannual']\n",
    "\n",
    "# Check which columns exist and filter only those\n",
    "existing_income_features = [col for col in income_features if col in df.columns]\n",
    "df[existing_income_features] = df[existing_income_features].apply(pd.to_numeric, errors='coerce').fillna(0)\n",
    "\n",
    "df['total_income'] = df[existing_income_features].sum(axis=1)\n",
    "df['daily_income'] = df['total_income'] / 365\n",
    "\n",
    "# Reduce memory usage\n",
    "df['daily_income'] = df['daily_income'].astype(np.float32)\n",
    "\n",
    "daily_income_mean = df.groupby('hhcode', as_index=False)['daily_income'].mean()\n",
    "df = df.merge(daily_income_mean, on='hhcode', suffixes=('', '_mean'))\n",
    "\n",
    "# Define Poverty Status based on World Bank Criteria\n",
    "poverty_line = 2.15 * 279\n",
    "df['poverty_status'] = np.where(df['daily_income_mean'] < poverty_line, 'Below Poverty', 'Above Poverty')\n",
    "\n",
    "# Define independent and dependent variables\n",
    "X = df.drop(columns=[\"poverty_status\", \"hhcode\"], errors='ignore')\n",
    "y = df[\"poverty_status\"]\n"
   ]
  },
  {
   "cell_type": "code",
   "execution_count": 4,
   "id": "caf9eacb",
   "metadata": {
    "id": "caf9eacb"
   },
   "outputs": [],
   "source": [
    "# Identify numerical and categorical features\n",
    "num_features = X.select_dtypes(include=[np.number]).columns.tolist()\n",
    "cat_features = X.select_dtypes(exclude=[np.number]).columns.tolist()\n",
    "\n",
    "# Preprocessing pipeline with missing value handling\n",
    "num_transformer = Pipeline([\n",
    "    (\"imputer\", SimpleImputer(strategy=\"median\")),\n",
    "    (\"scaler\", StandardScaler())\n",
    "])\n",
    "\n",
    "cat_transformer = Pipeline([\n",
    "    (\"imputer\", SimpleImputer(strategy=\"most_frequent\")),\n",
    "    (\"encoder\", OneHotEncoder(handle_unknown='ignore'))\n",
    "])\n",
    "\n",
    "preprocessor = ColumnTransformer([\n",
    "    (\"num\", num_transformer, num_features),\n",
    "    (\"cat\", cat_transformer, cat_features)\n",
    "])"
   ]
  },
  {
   "cell_type": "code",
   "execution_count": 5,
   "id": "ec7fd950",
   "metadata": {
    "id": "ec7fd950"
   },
   "outputs": [],
   "source": [
    "# Train multiple models\n",
    "models = {\n",
    "    \"RandomForest\": RandomForestClassifier(n_estimators=100, random_state=42),\n",
    "    \"GradientBoosting\": GradientBoostingClassifier(n_estimators=100, random_state=42)\n",
    "}\n",
    "\n",
    "results = {}\n",
    "\n",
    "for model_name, model in models.items():\n",
    "    pipeline = Pipeline([\n",
    "        (\"preprocessor\", preprocessor),\n",
    "        (\"classifier\", model)\n",
    "    ])\n",
    "\n",
    "    # Split data\n",
    "    X_train, X_test, y_train, y_test = train_test_split(X, y, test_size=0.2, random_state=42)\n",
    "\n",
    "    # Train the model\n",
    "    pipeline.fit(X_train, y_train)\n",
    "\n",
    "    # Make predictions\n",
    "    y_pred = pipeline.predict(X_test)\n",
    "\n",
    "    # Evaluate model performance\n",
    "    accuracy = accuracy_score(y_test, y_pred)\n",
    "    report = classification_report(y_test, y_pred)\n",
    "    cm = confusion_matrix(y_test, y_pred)\n",
    "\n",
    "    results[model_name] = {\n",
    "        \"accuracy\": accuracy,\n",
    "        \"report\": report,\n",
    "        \"confusion_matrix\": cm\n",
    "    }\n"
   ]
  },
  {
   "cell_type": "code",
   "execution_count": 6,
   "id": "ec72b48e",
   "metadata": {
    "colab": {
     "base_uri": "https://localhost:8080/",
     "height": 1000
    },
    "id": "ec72b48e",
    "outputId": "bbfc79f4-fea4-4bab-d0df-0f192e366994"
   },
   "outputs": [
    {
     "name": "stdout",
     "output_type": "stream",
     "text": [
      "Model: RandomForest\n",
      "Accuracy: 1.00\n",
      "Classification Report:\n",
      "                precision    recall  f1-score   support\n",
      "\n",
      "Above Poverty       1.00      1.00      1.00      3431\n",
      "Below Poverty       1.00      1.00      1.00     74155\n",
      "\n",
      "     accuracy                           1.00     77586\n",
      "    macro avg       1.00      1.00      1.00     77586\n",
      " weighted avg       1.00      1.00      1.00     77586\n",
      "\n",
      "Confusion Matrix:\n",
      " [[ 3429     2]\n",
      " [    0 74155]]\n",
      "--------------------------------------------------\n",
      "Model: GradientBoosting\n",
      "Accuracy: 1.00\n",
      "Classification Report:\n",
      "                precision    recall  f1-score   support\n",
      "\n",
      "Above Poverty       1.00      1.00      1.00      3431\n",
      "Below Poverty       1.00      1.00      1.00     74155\n",
      "\n",
      "     accuracy                           1.00     77586\n",
      "    macro avg       1.00      1.00      1.00     77586\n",
      " weighted avg       1.00      1.00      1.00     77586\n",
      "\n",
      "Confusion Matrix:\n",
      " [[ 3431     0]\n",
      " [    0 74155]]\n",
      "--------------------------------------------------\n"
     ]
    },
    {
     "data": {
      "image/png": "[encoded data removed]",
      "text/plain": [
       "<Figure size 800x500 with 1 Axes>"
      ]
     },
     "metadata": {},
     "output_type": "display_data"
    }
   ],
   "source": [
    "# Print results\n",
    "for model_name, metrics in results.items():\n",
    "    print(f\"Model: {model_name}\")\n",
    "    print(f\"Accuracy: {metrics['accuracy']:.2f}\")\n",
    "    print(\"Classification Report:\\n\", metrics['report'])\n",
    "    print(\"Confusion Matrix:\\n\", metrics['confusion_matrix'])\n",
    "    print(\"-\" * 50)\n",
    "\n",
    "# Visualization\n",
    "plt.figure(figsize=(8, 5))\n",
    "sns.barplot(x=list(results.keys()), y=[metrics['accuracy'] for metrics in results.values()])\n",
    "plt.title(\"Model Comparison - Accuracy\")\n",
    "plt.ylabel(\"Accuracy Score\")\n",
    "plt.show()"
   ]
  },
  {
   "cell_type": "markdown",
   "id": "M4meEO7VW1Uj",
   "metadata": {
    "id": "M4meEO7VW1Uj"
   },
   "source": []
  },
  {
   "cell_type": "code",
   "execution_count": null,
   "id": "8f0651b8",
   "metadata": {
    "id": "8f0651b8"
   },
   "outputs": [],
   "source": []
  },
  {
   "cell_type": "code",
   "execution_count": null,
   "id": "956bbd84",
   "metadata": {
    "id": "956bbd84"
   },
   "outputs": [],
   "source": []
  },
  {
   "cell_type": "code",
   "execution_count": null,
   "id": "c1bf4dfe",
   "metadata": {
    "id": "c1bf4dfe"
   },
   "outputs": [],
   "source": []
  },
  {
   "cell_type": "code",
   "execution_count": null,
   "id": "2521acf4",
   "metadata": {
    "id": "2521acf4"
   },
   "outputs": [],
   "source": []
  }
 ],
 "metadata": {
  "colab": {
   "provenance": []
  },
  "kernelspec": {
   "display_name": "Python 3 (ipykernel)",
   "language": "python",
   "name": "python3"
  },
  "language_info": {
   "codemirror_mode": {
    "name": "ipython",
    "version": 3
   },
   "file_extension": ".py",
   "mimetype": "text/x-python",
   "name": "python",
   "nbconvert_exporter": "python",
   "pygments_lexer": "ipython3",
   "version": "3.9.7"
  }
 },
 "nbformat": 4,
 "nbformat_minor": 5
}
